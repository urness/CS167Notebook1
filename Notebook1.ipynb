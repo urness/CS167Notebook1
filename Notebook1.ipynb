{
  "nbformat": 4,
  "nbformat_minor": 0,
  "metadata": {
    "colab": {
      "provenance": [],
      "collapsed_sections": [],
      "authorship_tag": "ABX9TyMQ9gL5vHiEePwv0prMSXd+",
      "include_colab_link": true
    },
    "kernelspec": {
      "name": "python3",
      "display_name": "Python 3"
    },
    "language_info": {
      "name": "python"
    }
  },
  "cells": [
    {
      "cell_type": "markdown",
      "metadata": {
        "id": "view-in-github",
        "colab_type": "text"
      },
      "source": [
        "<a href=\"https://colab.research.google.com/github/urness/CS167Notebook1/blob/main/Notebook1.ipynb\" target=\"_parent\"><img src=\"https://colab.research.google.com/assets/colab-badge.svg\" alt=\"Open In Colab\"/></a>"
      ]
    },
    {
      "cell_type": "markdown",
      "source": [
        "# Notebook #1: Python, Pandas, and Movies!\n",
        "**Name: your name here**\n",
        "\n",
        "**Due 9/13 before class**\n",
        "\n",
        "The goal of this notebook is to become comfortable with using `python` and `pandas` as well as grabbing specific slices of the dataset. \n",
        "\n",
        "Start off by importing the data. Make sure the data is in your Google Drive, and that you update the path to point to where you have your data saved in Drive."
      ],
      "metadata": {
        "id": "znLmB8BEzT9M"
      }
    },
    {
      "cell_type": "code",
      "execution_count": 1,
      "metadata": {
        "id": "pEUiWYhVWPxa",
        "colab": {
          "base_uri": "https://localhost:8080/"
        },
        "outputId": "7bd12948-143e-4627-eae7-92f3171de335"
      },
      "outputs": [
        {
          "output_type": "stream",
          "name": "stdout",
          "text": [
            "Mounted at /content/drive\n"
          ]
        }
      ],
      "source": [
        "#selecting columns in dataframes\n",
        "import pandas\n",
        "from google.colab import drive\n",
        "drive.mount('/content/drive')"
      ]
    },
    {
      "cell_type": "code",
      "source": [
        "#import the data:\n",
        "#make sure the path on the line below corresponds to the path where you put your dataset.\n",
        "movies = pandas.read_csv('/content/drive/MyDrive/CS167Fall22/Datasets/MoviesData.csv')"
      ],
      "metadata": {
        "id": "eN3_rgW0Wa2R"
      },
      "execution_count": 13,
      "outputs": []
    },
    {
      "cell_type": "markdown",
      "source": [
        "## Exercise #1: \n",
        "Print out all of the possible values for the Genres.\n",
        "- *Hint: I'm looking for each possible Genre to be ouput once. For example, if I tossed a coin 3 times and got Heads, Tails, Heads, the possible values of the coin flip are Heads and Tails. There is a function for this. It should require one line of code.*"
      ],
      "metadata": {
        "id": "OYCfn1aKzmJ5"
      }
    },
    {
      "cell_type": "markdown",
      "source": [
        "## Exercise #2:\n",
        "Create a subset of data representing movies from the year 2000-2010 (including both 2000 and 2010) with the value \"Action\" in the Genre column. Save this DataFrame to the variable name `older_action_movies`. Display the first 5 lines of this subset."
      ],
      "metadata": {
        "id": "R0u87ioL0fHe"
      }
    },
    {
      "cell_type": "markdown",
      "source": [
        "## Exercise #3\n",
        "Using `older_action_movies`, what is the *median* **IMDb** rating?"
      ],
      "metadata": {
        "id": "BKlHFlGP1OLG"
      }
    },
    {
      "cell_type": "markdown",
      "source": [
        "## Exercise #4\n",
        "Create a new subset with only movies with `Rotten Tomatoes` values < 20 and `IMDb` values < 3.0 (these should be awful movies!). Include only 4 columns: the `Title`, `Year`, `IMDb`, and `Rotten Tomatoes`. Display all of the rows in this subset.\n"
      ],
      "metadata": {
        "id": "B9UXCYtC1pOP"
      }
    },
    {
      "cell_type": "markdown",
      "source": [
        "## Exercise #5\n",
        "\n",
        "What is the average (mean) IMDb score for each of the different Genres?  (I'm looking at the average of the 'IMDb' column, grouped by Genre--so Action v Adventure v Animation etc.). Look at this list to determine which genre has the highest average.\n",
        "- In addition to supplying the code to output the averages for each Genre,answer the question of the hightest average in a text cell ...*"
      ],
      "metadata": {
        "id": "91OfntId3DsF"
      }
    },
    {
      "cell_type": "markdown",
      "source": [
        "## Exercise #6\n",
        "\n",
        "Do something cool. Using the movies dataset, get creative and show me something about the dataset. Use a text cell to explain what you did."
      ],
      "metadata": {
        "id": "fG3cWlnQlWxh"
      }
    }
  ]
}